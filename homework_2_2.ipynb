{
 "cells": [
  {
   "cell_type": "code",
   "execution_count": 0,
   "id": "b7857e",
   "metadata": {
    "collapsed": false
   },
   "outputs": [
   ],
   "source": [
    "from itertools import product\n",
    "\n",
    "\n",
    "def all_actions(space):\n",
    "    pairs = list(product(space, repeat=2)) \n",
    "    all_operations = list(product(space, repeat=len(pairs))) \n",
    "    return pairs, all_operations\n",
    "\n",
    "\n",
    "def is_associative(space, pairs, action): \n",
    "    for x in space:\n",
    "        for y in space:\n",
    "            for z in space:\n",
    "                \n",
    "                left_pair_1 = pairs.index((y, z))\n",
    "                left_pair_2 = pairs.index((x, action[left_pair_1]))\n",
    "                \n",
    "                right_pair_1 = pairs.index((x, y))\n",
    "                right_pair_2 = pairs.index((action[right_pair_1], z))\n",
    "                \n",
    "                \n",
    "                if action[left_pair_2] != action[right_pair_2]:\n",
    "                    return False, (x, y, z)  \n",
    "    return True, None  \n",
    "\n",
    "\n",
    "space = {0, 1}\n",
    "pairs, all_operations = all_actions(space)\n",
    "counter = 0\n",
    "\n",
    "for op_index, operation in enumerate(all_operations):\n",
    "    is_assoc, counter_example = is_associative(space, pairs, operation)\n",
    "    if is_assoc:\n",
    "        print(f\"Операція {op_index + 1} асоціативна\")\n",
    "        counter += 1\n",
    "    else:\n",
    "        print(f\"Операція {op_index + 1} не асоціативна, контрприклад: {counter_example}\")\n",
    "        \n",
    "print(f'Кількість асоціативних дій для {len(space)}-елементної множини:', counter)"
   ]
  },
  {
   "cell_type": "code",
   "execution_count": 0,
   "id": "ef066e",
   "metadata": {
    "collapsed": false
   },
   "outputs": [
   ],
   "source": [
   ]
  }
 ],
 "metadata": {
  "kernelspec": {
   "argv": [
    "sage-10.4",
    "--python",
    "-m",
    "sage.repl.ipython_kernel",
    "--matplotlib=inline",
    "-f",
    "{connection_file}"
   ],
   "display_name": "SageMath 10.4",
   "env": {
   },
   "language": "sagemath",
   "metadata": {
    "cocalc": {
     "description": "Open-source mathematical software system",
     "priority": 10,
     "url": "https://www.sagemath.org/"
    }
   },
   "name": "sage-10.4",
   "resource_dir": "/ext/jupyter/kernels/sage-10.4"
  },
  "language_info": {
   "codemirror_mode": {
    "name": "ipython",
    "version": 2
   },
   "file_extension": ".py",
   "mimetype": "text/x-python",
   "name": "python",
   "nbconvert_exporter": "python",
   "pygments_lexer": "ipython2",
   "version": "2.7.12+"
  }
 },
 "nbformat": 4,
 "nbformat_minor": 4
}