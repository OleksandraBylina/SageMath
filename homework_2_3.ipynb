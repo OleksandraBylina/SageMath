{
 "cells": [
  {
   "cell_type": "code",
   "execution_count": 0,
   "id": "40ba7a",
   "metadata": {
    "collapsed": false
   },
   "outputs": [
   ],
   "source": [
    "from itertools import product, permutations\n",
    "\n",
    "associative_operations = []\n",
    "\n",
    "def all_actions(space):\n",
    "    pairs = list(product(space, repeat=2)) \n",
    "    all_operations = list(product(space, repeat=len(pairs))) \n",
    "    return pairs, all_operations\n",
    "\n",
    "def is_associative(space, pairs, action): \n",
    "    for x in space:\n",
    "        for y in space:\n",
    "            for z in space:\n",
    "                left_pair_1 = pairs.index((y, z))\n",
    "                left_pair_2 = pairs.index((x, action[left_pair_1]))\n",
    "                \n",
    "                right_pair_1 = pairs.index((x, y))\n",
    "                right_pair_2 = pairs.index((action[right_pair_1], z))\n",
    "                \n",
    "                if action[left_pair_2] != action[right_pair_2]:\n",
    "                    return False, (x, y, z)  \n",
    "    return True, None\n",
    "\n",
    "space = {0, 1}\n",
    "pairs, all_operations = all_actions(space)\n",
    "counter = 0\n",
    "\n",
    "for op_index, operation in enumerate(all_operations):\n",
    "    is_assoc, counter_example = is_associative(space, pairs, operation)\n",
    "    if is_assoc:\n",
    "        associative_operations.append(operation)\n",
    "        counter += 1\n",
    "\n",
    "def is_isomorphic(space, action1, action2):\n",
    "    for perm in permutations(space):\n",
    "        bi = {}\n",
    "        for i, x in enumerate(space):\n",
    "            bi[x] = perm[i]\n",
    "        \n",
    "        is_isomorphism = True\n",
    "        for idx, (x, y) in enumerate(pairs):\n",
    "            left = bi[action1[idx]] \n",
    "            right = action2[pairs.index((bi[x], bi[y]))]  \n",
    "            \n",
    "            if left != right:\n",
    "                is_isomorphism = False\n",
    "                break\n",
    "        \n",
    "        if is_isomorphism:\n",
    "            return True\n",
    "    return False\n",
    "\n",
    "isomorphic_classes = []\n",
    "\n",
    "for f1 in associative_operations:\n",
    "    is_in_class = False\n",
    "    for iso_class in isomorphic_classes:\n",
    "        f2 = iso_class[0]\n",
    "        if is_isomorphic(space, f1, f2):\n",
    "            iso_class[1] += 1\n",
    "            is_in_class = True\n",
    "            break\n",
    "    \n",
    "    if not is_in_class:\n",
    "        isomorphic_classes.append([f1, 1])\n",
    "\n",
    "print('Кількість класів ізоморфності:', len(isomorphic_classes))\n",
    "print('Кількість дій у кожному класі:')\n",
    "for iso_class in isomorphic_classes:\n",
    "    print(f\"Операція: {iso_class[0]}, кількість: {iso_class[1]}\")"
   ]
  }
 ],
 "metadata": {
  "kernelspec": {
   "argv": [
    "sage-10.4",
    "--python",
    "-m",
    "sage.repl.ipython_kernel",
    "--matplotlib=inline",
    "-f",
    "{connection_file}"
   ],
   "display_name": "SageMath 10.4",
   "env": {
   },
   "language": "sagemath",
   "metadata": {
    "cocalc": {
     "description": "Open-source mathematical software system",
     "priority": 10,
     "url": "https://www.sagemath.org/"
    }
   },
   "name": "sage-10.4",
   "resource_dir": "/ext/jupyter/kernels/sage-10.4"
  },
  "language_info": {
   "codemirror_mode": {
    "name": "ipython",
    "version": 2
   },
   "file_extension": ".py",
   "mimetype": "text/x-python",
   "name": "python",
   "nbconvert_exporter": "python",
   "pygments_lexer": "ipython2",
   "version": "2.7.12+"
  }
 },
 "nbformat": 4,
 "nbformat_minor": 4
}