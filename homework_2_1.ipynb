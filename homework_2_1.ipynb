{
 "cells": [
  {
   "cell_type": "code",
   "execution_count": 0,
   "id": "5a9002",
   "metadata": {
    "collapsed": false
   },
   "outputs": [
   ],
   "source": [
    "from itertools import product\n",
    "from sage.matrix.operation_table import OperationTable\n",
    "\n",
    "needed_set = [1, 2]\n",
    "# needed_set = [1, 2, 3]\n",
    "\n",
    "\n",
    "def all_actions(space):\n",
    "    pairs = list(product(space, repeat=2))\n",
    "    all_operations = list(product(space, repeat=len(pairs)))\n",
    "    return pairs, all_operations\n",
    "\n",
    "pairs, all_operations = all_actions(needed_set)\n",
    "\n",
    "for op_index, operation in enumerate(all_operations):\n",
    "    print(f\"Бінарна дія і таблиця Келі {op_index + 1}:\")\n",
    "    for i, pair in enumerate(pairs):\n",
    "        \n",
    "        print(f\"{pair} -> {operation[i]}\")\n",
    "    \n",
    "    def _f(x, y, op=operation):\n",
    "        pair_index = pairs.index((x, y))\n",
    "        return op[pair_index] \n",
    "\n",
    "    \n",
    "    \n",
    "    table = OperationTable(needed_set, _f, names='elements')\n",
    "    \n",
    "    print(table)"
   ]
  },
  {
   "cell_type": "code",
   "execution_count": 0,
   "id": "da003c",
   "metadata": {
    "collapsed": false
   },
   "outputs": [
   ],
   "source": [
   ]
  }
 ],
 "metadata": {
  "kernelspec": {
   "argv": [
    "sage-10.4",
    "--python",
    "-m",
    "sage.repl.ipython_kernel",
    "--matplotlib=inline",
    "-f",
    "{connection_file}"
   ],
   "display_name": "SageMath 10.4",
   "env": {
   },
   "language": "sagemath",
   "metadata": {
    "cocalc": {
     "description": "Open-source mathematical software system",
     "priority": 10,
     "url": "https://www.sagemath.org/"
    }
   },
   "name": "sage-10.4",
   "resource_dir": "/ext/jupyter/kernels/sage-10.4"
  },
  "language_info": {
   "codemirror_mode": {
    "name": "ipython",
    "version": 2
   },
   "file_extension": ".py",
   "mimetype": "text/x-python",
   "name": "python",
   "nbconvert_exporter": "python",
   "pygments_lexer": "ipython2",
   "version": "2.7.12+"
  }
 },
 "nbformat": 4,
 "nbformat_minor": 4
}